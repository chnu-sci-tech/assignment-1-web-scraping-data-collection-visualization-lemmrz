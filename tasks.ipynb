{
 "cells": [
  {
   "cell_type": "markdown",
   "metadata": {},
   "source": [
    "# Tasks for laboratory assignment 1"
   ]
  },
  {
   "cell_type": "code",
   "execution_count": 2,
   "metadata": {},
   "outputs": [],
   "source": [
    "# imports section\n",
    "\n",
    "import requests\n",
    "from bs4 import BeautifulSoup\n",
    "import json\n",
    "import pandas as pd\n",
    "from datetime import datetime\n",
    "import csv\n",
    "import numpy as np\n",
    "import matplotlib.pyplot as plt"
   ]
  },
  {
   "cell_type": "markdown",
   "metadata": {},
   "source": [
    "## Extract webpage data given the url\n",
    "\n",
    "Create a Python script that performs basic web scraping on a page to extract all the information into text and returns it as a string.\n",
    "String should not contain tags."
   ]
  },
  {
   "cell_type": "code",
   "execution_count": 3,
   "metadata": {},
   "outputs": [
    {
     "name": "stdout",
     "output_type": "stream",
     "text": [
      "<!DOCTYPE html>\n",
      "<html lang=\"uk\" prefix=\"og: https://ogp.me/ns#\">\n",
      "<head>\n",
      "    <meta charset=\"utf-8\" />\n",
      "    <meta name=\"viewport\" content=\"width=device-width, initial-scale=1\">\n",
      "        <title>&#x413;&#x43E;&#x43B;&#x43E;&#x432;&#x43D;&#x430; - &#x424;&#\n",
      "<!DOCTYPE html>\n",
      "<html class=\"client-nojs vector-feature-language-in-header-enabled vector-feature-language-in-main-page-header-disabled vector-feature-sticky-header-disabled vector-feature-page-tools-pinned-disabled vector-feature-toc-pinned-clientpref-1 \n"
     ]
    }
   ],
   "source": [
    "def parse_web_page(url):\n",
    "    try:\n",
    "        # Sending a GET request to fetch the content of the page\n",
    "        response = requests.get(url)\n",
    "\n",
    "        # Check if the request was successful (status code 200)\n",
    "        response.raise_for_status()\n",
    "\n",
    "        # If the request was successful, return the page content\n",
    "        return response.text\n",
    "\n",
    "    except requests.exceptions.HTTPError as err:\n",
    "        print(f\"HTTP error occurred: {err}\")\n",
    "        return None\n",
    "    except Exception as err:\n",
    "        print(f\"An error occurred: {err}\")\n",
    "        return None\n",
    "\n",
    "\n",
    "print(parse_web_page('https://fmi.chnu.edu.ua/')[:255])\n",
    "print(parse_web_page('https://en.wikipedia.org/wiki/Web_scraping')[:255])\n"
   ]
  },
  {
   "cell_type": "markdown",
   "metadata": {},
   "source": [
    "## Get data from the API\n",
    "\n",
    "Create a python script that performs basic request to API endpoint and saves that data to a JSON file `result.json`."
   ]
  },
  {
   "cell_type": "code",
   "execution_count": 4,
   "metadata": {},
   "outputs": [
    {
     "name": "stdout",
     "output_type": "stream",
     "text": [
      "Data successfully saved to result.json\n"
     ]
    }
   ],
   "source": [
    "def parse_api(api_url):\n",
    "    try:\n",
    "        # Send a GET request to the API endpoint\n",
    "        response = requests.get(api_url)\n",
    "\n",
    "        # Raise an exception if the request was unsuccessful\n",
    "        response.raise_for_status()\n",
    "\n",
    "        # Parse the JSON response\n",
    "        data = response.json()\n",
    "\n",
    "        # Save the data to result.json\n",
    "        with open('result.json', 'w') as f:\n",
    "            json.dump(data, f, indent=4)\n",
    "\n",
    "        print(\"Data successfully saved to result.json\")\n",
    "\n",
    "    except requests.exceptions.HTTPError as err:\n",
    "        print(f\"HTTP error occurred: {err}\")\n",
    "    except Exception as err:\n",
    "        print(f\"An error occurred: {err}\")\n",
    "\n",
    "# Call the function with the GitHub API URL\n",
    "parse_api('https://api.github.com/')"
   ]
  },
  {
   "cell_type": "markdown",
   "metadata": {},
   "source": [
    "## Parse the json file\n",
    "\n",
    "Parse the `weather.json` file and return weather data for a specific date, that is given as a parameter. Return the data as an array."
   ]
  },
  {
   "cell_type": "code",
   "execution_count": 5,
   "metadata": {},
   "outputs": [
    {
     "name": "stdout",
     "output_type": "stream",
     "text": [
      "[{'date': '2024-08-19', 'max_temperature': 30.0, 'min_temperature': 21.0, 'precipitation': 5.0, 'wind_speed': 10.0, 'humidity': 70, 'weather_description': 'Light rain'}]\n"
     ]
    }
   ],
   "source": [
    "def parse_json(target_date):\n",
    "    try:\n",
    "        # Load the data from the weather.json file in the './resources' folder\n",
    "        with open('./resources/weather.json', 'r') as f:\n",
    "            data = json.load(f)\n",
    "        \n",
    "        # Loop through the 'daily' list to find the weather data for the target date\n",
    "        for record in data['daily']:\n",
    "            if record['date'] == target_date:\n",
    "                # Return the weather data for the target date as a list\n",
    "                return [record]\n",
    "        \n",
    "        # If no data is found for the given date, return an empty list\n",
    "        return []\n",
    "    \n",
    "    except FileNotFoundError:\n",
    "        print(\"weather.json file not found in './resources'.\")\n",
    "        return []\n",
    "    except json.JSONDecodeError:\n",
    "        print(\"Error decoding JSON from weather.json.\")\n",
    "        return []\n",
    "    except Exception as e:\n",
    "        print(f\"An error occurred: {e}\")\n",
    "        return []\n",
    "\n",
    "# Example usage:\n",
    "target_date = '2024-08-19'\n",
    "print(parse_json(target_date))\n"
   ]
  },
  {
   "cell_type": "markdown",
   "metadata": {},
   "source": [
    "## Parse the csv file\n",
    "\n",
    "Parse the `weather.csv` file and return weather data for a specific date, that is given as a parameter. Return the data as an array."
   ]
  },
  {
   "cell_type": "code",
   "execution_count": 6,
   "metadata": {},
   "outputs": [
    {
     "name": "stdout",
     "output_type": "stream",
     "text": [
      "[{'CET': '1997-1-2', 'Max TemperatureC': '7', 'Mean TemperatureC': '3', 'Min TemperatureC': '0', 'Dew PointC': '6', 'MeanDew PointC': '3', 'Min DewpointC': '0', 'Max Humidity': '100', ' Mean Humidity': '92', ' Min Humidity': '71', ' Max Sea Level PressurehPa': '1007', ' Mean Sea Level PressurehPa': '1003', ' Min Sea Level PressurehPa': '997', ' Max VisibilityKm': '10', ' Mean VisibilityKm': '9', ' Min VisibilitykM': '4', ' Max Wind SpeedKm/h': '26', ' Mean Wind SpeedKm/h': '8', ' Max Gust SpeedKm/h': '47', 'Precipitationmm': '0.00', ' CloudCover': '5', ' Events': 'Rain', 'WindDirDegrees': '143'}]\n"
     ]
    }
   ],
   "source": [
    "def parse_csv(target_date):\n",
    "    try:\n",
    "        # Open the CSV file located at './resources/weather.csv'\n",
    "        with open('./resources/weather.csv', mode='r') as file:\n",
    "            reader = csv.DictReader(file)  # Read the CSV as dictionaries\n",
    "            \n",
    "            # Iterate through each row in the CSV\n",
    "            for row in reader:\n",
    "                if row['CET'] == target_date:  # Check if the date matches\n",
    "                    # Return the weather data for the target date as a list\n",
    "                    return [row]\n",
    "        \n",
    "        # If no matching date is found, return an empty list\n",
    "        return []\n",
    "    \n",
    "    except FileNotFoundError:\n",
    "        print(\"weather.csv file not found in './resources'.\")\n",
    "        return []\n",
    "    except Exception as e:\n",
    "        print(f\"An error occurred: {e}\")\n",
    "        return []\n",
    "\n",
    "# Example usage:\n",
    "target_date = '1997-1-2'\n",
    "print(parse_csv(target_date))"
   ]
  },
  {
   "cell_type": "markdown",
   "metadata": {},
   "source": [
    "## Visualize data\n",
    "\n",
    "Visualize the `weather.csv` data using matplotlib. Choose your own approach to data visualization. Save the results (as `.png`, `.webp` files etc., your choise) in this repository. "
   ]
  },
  {
   "cell_type": "code",
   "execution_count": 10,
   "metadata": {},
   "outputs": [
    {
     "name": "stdout",
     "output_type": "stream",
     "text": [
      "Skipping row due to missing data: {'CET': '2000-8-22', 'Max TemperatureC': '27', 'Mean TemperatureC': '', 'Min TemperatureC': '27', 'Dew PointC': '-1', 'MeanDew PointC': '-1', 'Min DewpointC': '-1', 'Max Humidity': '16', 'Mean Humidity': '16', 'Min Humidity': '16', 'Max Sea Level PressurehPa': '1015', 'Mean Sea Level PressurehPa': '1015', 'Min Sea Level PressurehPa': '1015', 'Max VisibilityKm': '', 'Mean VisibilityKm': '', 'Min VisibilitykM': '', 'Max Wind SpeedKm/h': '19', 'Mean Wind SpeedKm/h': '19', 'Max Gust SpeedKm/h': '', 'Precipitationmm': '0.00', 'CloudCover': '', 'Events': '', 'WindDirDegrees': '260'}\n",
      "Skipping row due to missing data: {'CET': '2001-6-25', 'Max TemperatureC': '', 'Mean TemperatureC': '', 'Min TemperatureC': '', 'Dew PointC': '', 'MeanDew PointC': '', 'Min DewpointC': '', 'Max Humidity': '', 'Mean Humidity': '', 'Min Humidity': '', 'Max Sea Level PressurehPa': '1021', 'Mean Sea Level PressurehPa': '1019', 'Min Sea Level PressurehPa': '1018', 'Max VisibilityKm': '', 'Mean VisibilityKm': '', 'Min VisibilitykM': '', 'Max Wind SpeedKm/h': '26', 'Mean Wind SpeedKm/h': '14', 'Max Gust SpeedKm/h': '', 'Precipitationmm': '0.00', 'CloudCover': '', 'Events': '', 'WindDirDegrees': '231'}\n",
      "Skipping row due to missing data: {'CET': '2001-6-26', 'Max TemperatureC': '', 'Mean TemperatureC': '', 'Min TemperatureC': '', 'Dew PointC': '', 'MeanDew PointC': '', 'Min DewpointC': '', 'Max Humidity': '', 'Mean Humidity': '', 'Min Humidity': '', 'Max Sea Level PressurehPa': '1021', 'Mean Sea Level PressurehPa': '1019', 'Min Sea Level PressurehPa': '1016', 'Max VisibilityKm': '', 'Mean VisibilityKm': '', 'Min VisibilitykM': '', 'Max Wind SpeedKm/h': '26', 'Mean Wind SpeedKm/h': '11', 'Max Gust SpeedKm/h': '', 'Precipitationmm': '0.00', 'CloudCover': '', 'Events': '', 'WindDirDegrees': '248'}\n",
      "Dates: 6809, Max Temps: 6809, Mean Temps: 6809\n",
      "Visualizations have been saved as images in the repository.\n"
     ]
    }
   ],
   "source": [
    "import csv\n",
    "import matplotlib.pyplot as plt\n",
    "from datetime import datetime\n",
    "\n",
    "def visualize_data():\n",
    "    # Read data from weather.csv using the csv module\n",
    "    dates = []\n",
    "    max_temps = []\n",
    "    mean_temps = []\n",
    "    min_temps = []\n",
    "    precipitation = []\n",
    "    max_humidity = []\n",
    "    mean_humidity = []\n",
    "    min_humidity = []\n",
    "    \n",
    "    with open('./resources/weather.csv', mode='r') as file:\n",
    "        reader = csv.DictReader(file)  # Automatically handles the header row\n",
    "        for row in reader:\n",
    "            # Strip spaces from the column names to avoid KeyError\n",
    "            row = {key.strip(): value for key, value in row.items()}\n",
    "            \n",
    "            # Only append data if all required fields are present and valid\n",
    "            try:\n",
    "                # Check if all necessary data exists\n",
    "                date = row['CET']\n",
    "                max_temp = row['Max TemperatureC']\n",
    "                mean_temp = row['Mean TemperatureC']\n",
    "                min_temp = row['Min TemperatureC']\n",
    "                precip = row['Precipitationmm']\n",
    "                max_hum = row['Max Humidity']\n",
    "                mean_hum = row['Mean Humidity']\n",
    "                min_hum = row['Min Humidity']\n",
    "\n",
    "                # Ensure valid values (non-empty, non-None)\n",
    "                if date and max_temp and mean_temp and min_temp and precip and max_hum and mean_hum and min_hum:\n",
    "                    dates.append(datetime.strptime(date, '%Y-%m-%d'))\n",
    "                    max_temps.append(float(max_temp))\n",
    "                    mean_temps.append(float(mean_temp))\n",
    "                    min_temps.append(float(min_temp))\n",
    "                    precipitation.append(float(precip))\n",
    "                    max_humidity.append(float(max_hum))\n",
    "                    mean_humidity.append(float(mean_hum) if mean_hum else None)\n",
    "                    min_humidity.append(float(min_hum))\n",
    "                else:\n",
    "                    print(f\"Skipping row due to missing data: {row}\")\n",
    "            except (ValueError, KeyError) as e:\n",
    "                # Handle rows with missing or malformed data\n",
    "                print(f\"Error processing row: {row} | Error: {e}\")\n",
    "                continue\n",
    "    \n",
    "    # Check that all lists have the same length\n",
    "    print(f\"Dates: {len(dates)}, Max Temps: {len(max_temps)}, Mean Temps: {len(mean_temps)}\")\n",
    "    \n",
    "    # Visualization 1: Line plot of Max, Min, and Mean Temperatures over time\n",
    "    plt.figure(figsize=(10, 6))\n",
    "    plt.plot(dates, max_temps, label='Max Temperature', color='red')\n",
    "    plt.plot(dates, mean_temps, label='Mean Temperature', color='blue')\n",
    "    plt.plot(dates, min_temps, label='Min Temperature', color='green')\n",
    "    plt.title('Temperature Trends Over Time')\n",
    "    plt.xlabel('Date')\n",
    "    plt.ylabel('Temperature (°C)')\n",
    "    plt.legend()\n",
    "    plt.xticks(rotation=45)  # Rotate date labels for better readability\n",
    "    plt.tight_layout()  # Ensure the labels fit within the figure\n",
    "    plt.savefig('./output/temperature_trends.png')  # Save the plot\n",
    "    plt.close()  # Close the current plot\n",
    "    \n",
    "    # Visualization 2: Bar chart for Precipitation levels\n",
    "    plt.figure(figsize=(10, 6))\n",
    "    plt.bar(dates, precipitation, color='skyblue')\n",
    "    plt.title('Daily Precipitation')\n",
    "    plt.xlabel('Date')\n",
    "    plt.ylabel('Precipitation (mm)')\n",
    "    plt.xticks(rotation=45)  # Rotate date labels for better readability\n",
    "    plt.tight_layout()  # Ensure the labels fit within the figure\n",
    "    plt.savefig('./output/precipitation_levels.png')  # Save the plot\n",
    "    plt.close()  # Close the current plot\n",
    "    \n",
    "    # Visualization 3: Line plot of Max, Mean, and Min Humidity over time\n",
    "    plt.figure(figsize=(10, 6))\n",
    "    plt.plot(dates, max_humidity, label='Max Humidity', color='orange')\n",
    "    plt.plot(dates, mean_humidity, label='Mean Humidity', color='purple')\n",
    "    plt.plot(dates, min_humidity, label='Min Humidity', color='brown')\n",
    "    plt.title('Humidity Trends Over Time')\n",
    "    plt.xlabel('Date')\n",
    "    plt.ylabel('Humidity (%)')\n",
    "    plt.legend()\n",
    "    plt.xticks(rotation=45)  # Rotate date labels for better readability\n",
    "    plt.tight_layout()  # Ensure the labels fit within the figure\n",
    "    plt.savefig('./output/humidity_trends.png')  # Save the plot\n",
    "    plt.close()  # Close the current plot\n",
    "    \n",
    "    print(\"Visualizations have been saved as images in the repository.\")\n",
    "\n",
    "# Run the function to generate and save the plots\n",
    "visualize_data()\n",
    "\n"
   ]
  }
 ],
 "metadata": {
  "kernelspec": {
   "display_name": "myenv",
   "language": "python",
   "name": "python3"
  },
  "language_info": {
   "codemirror_mode": {
    "name": "ipython",
    "version": 3
   },
   "file_extension": ".py",
   "mimetype": "text/x-python",
   "name": "python",
   "nbconvert_exporter": "python",
   "pygments_lexer": "ipython3",
   "version": "3.12.3"
  }
 },
 "nbformat": 4,
 "nbformat_minor": 2
}
